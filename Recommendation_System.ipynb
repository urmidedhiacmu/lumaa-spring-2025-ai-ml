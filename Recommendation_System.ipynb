{
 "cells": [
  {
   "cell_type": "markdown",
   "id": "bfd6f7d3-c0f9-4d11-95aa-a08fa709da5a",
   "metadata": {},
   "source": [
    "# Recommendation System for Lumaa Summer internship 2025 - Urmi Dedhia"
   ]
  },
  {
   "cell_type": "markdown",
   "id": "02e42b77-5108-4d09-845d-830f6dffc4b6",
   "metadata": {},
   "source": [
    "### Run this to import all the dependencies required"
   ]
  },
  {
   "cell_type": "code",
   "execution_count": 1,
   "id": "ebeab8e8-bf7e-4dec-812f-6d4d4e301dfd",
   "metadata": {},
   "outputs": [
    {
     "name": "stderr",
     "output_type": "stream",
     "text": [
      "/Users/Urmi/anaconda3/envs/spacy_env/lib/python3.10/site-packages/tqdm/auto.py:21: TqdmWarning: IProgress not found. Please update jupyter and ipywidgets. See https://ipywidgets.readthedocs.io/en/stable/user_install.html\n",
      "  from .autonotebook import tqdm as notebook_tqdm\n"
     ]
    }
   ],
   "source": [
    "import pandas as pd\n",
    "import re\n",
    "import spacy\n",
    "import numpy as np\n",
    "from sentence_transformers import SentenceTransformer, util"
   ]
  },
  {
   "cell_type": "markdown",
   "id": "0d9c7a90-4d3e-44da-8fe4-fd3cdf8e9a05",
   "metadata": {},
   "source": [
    "### Run this cell to load the SentenceTransformer model, which is used to generate embeddings for movie descriptions.\n",
    "\n"
   ]
  },
  {
   "cell_type": "code",
   "execution_count": 2,
   "id": "8687c1a5-8259-49fa-8cb8-311540c2e892",
   "metadata": {},
   "outputs": [],
   "source": [
    "# Load a more advanced sentence embedding model\n",
    "model = SentenceTransformer('all-MiniLM-L6-v2')  # Efficient but powerful model"
   ]
  },
  {
   "cell_type": "markdown",
   "id": "f32be3ef-e5d7-43ef-af91-01186d785342",
   "metadata": {},
   "source": [
    "### Run the following cells to load the dataset and view it"
   ]
  },
  {
   "cell_type": "code",
   "execution_count": 3,
   "id": "cc464d4a-5af6-4849-b24e-5c5316368b52",
   "metadata": {},
   "outputs": [],
   "source": [
    "# Load dataset\n",
    "dataset_path = \"TMDb_updated.csv\"\n",
    "df = pd.read_csv(dataset_path)"
   ]
  },
  {
   "cell_type": "code",
   "execution_count": 4,
   "id": "1c555228-e5dd-482c-9e52-4de2dcbd1ec1",
   "metadata": {},
   "outputs": [],
   "source": [
    "# Change 'x' to the desired number of rows (<=10000)\n",
    "x = 400\n",
    "df = df.sample(n=x, random_state=42).reset_index(drop=True)"
   ]
  },
  {
   "cell_type": "code",
   "execution_count": 5,
   "id": "dbebbaaa-b6ff-4bc6-8841-59540ceab2af",
   "metadata": {},
   "outputs": [
    {
     "data": {
      "text/html": [
       "<div>\n",
       "<style scoped>\n",
       "    .dataframe tbody tr th:only-of-type {\n",
       "        vertical-align: middle;\n",
       "    }\n",
       "\n",
       "    .dataframe tbody tr th {\n",
       "        vertical-align: top;\n",
       "    }\n",
       "\n",
       "    .dataframe thead th {\n",
       "        text-align: right;\n",
       "    }\n",
       "</style>\n",
       "<table border=\"1\" class=\"dataframe\">\n",
       "  <thead>\n",
       "    <tr style=\"text-align: right;\">\n",
       "      <th></th>\n",
       "      <th>Unnamed: 0</th>\n",
       "      <th>title</th>\n",
       "      <th>overview</th>\n",
       "      <th>original_language</th>\n",
       "      <th>vote_count</th>\n",
       "      <th>vote_average</th>\n",
       "    </tr>\n",
       "  </thead>\n",
       "  <tbody>\n",
       "    <tr>\n",
       "      <th>0</th>\n",
       "      <td>6252</td>\n",
       "      <td>7 Days in Entebbe</td>\n",
       "      <td>In 1976, four hijackers take over an Air Franc...</td>\n",
       "      <td>en</td>\n",
       "      <td>234</td>\n",
       "      <td>5.8</td>\n",
       "    </tr>\n",
       "    <tr>\n",
       "      <th>1</th>\n",
       "      <td>4684</td>\n",
       "      <td>The Scorpion King: Quest for Power</td>\n",
       "      <td>When he is betrayed by a trusted friend, Matha...</td>\n",
       "      <td>en</td>\n",
       "      <td>109</td>\n",
       "      <td>4.7</td>\n",
       "    </tr>\n",
       "    <tr>\n",
       "      <th>2</th>\n",
       "      <td>1731</td>\n",
       "      <td>Disobedience</td>\n",
       "      <td>A woman learns about the death of her Orthodox...</td>\n",
       "      <td>en</td>\n",
       "      <td>530</td>\n",
       "      <td>6.9</td>\n",
       "    </tr>\n",
       "    <tr>\n",
       "      <th>3</th>\n",
       "      <td>4742</td>\n",
       "      <td>Wolf</td>\n",
       "      <td>Publisher Will Randall becomes a werewolf and ...</td>\n",
       "      <td>en</td>\n",
       "      <td>509</td>\n",
       "      <td>6.1</td>\n",
       "    </tr>\n",
       "    <tr>\n",
       "      <th>4</th>\n",
       "      <td>4521</td>\n",
       "      <td>Flypaper</td>\n",
       "      <td>A man caught in the middle of two simultaneous...</td>\n",
       "      <td>en</td>\n",
       "      <td>446</td>\n",
       "      <td>6.3</td>\n",
       "    </tr>\n",
       "  </tbody>\n",
       "</table>\n",
       "</div>"
      ],
      "text/plain": [
       "   Unnamed: 0                               title  \\\n",
       "0        6252                   7 Days in Entebbe   \n",
       "1        4684  The Scorpion King: Quest for Power   \n",
       "2        1731                        Disobedience   \n",
       "3        4742                                Wolf   \n",
       "4        4521                            Flypaper   \n",
       "\n",
       "                                            overview original_language  \\\n",
       "0  In 1976, four hijackers take over an Air Franc...                en   \n",
       "1  When he is betrayed by a trusted friend, Matha...                en   \n",
       "2  A woman learns about the death of her Orthodox...                en   \n",
       "3  Publisher Will Randall becomes a werewolf and ...                en   \n",
       "4  A man caught in the middle of two simultaneous...                en   \n",
       "\n",
       "   vote_count  vote_average  \n",
       "0         234           5.8  \n",
       "1         109           4.7  \n",
       "2         530           6.9  \n",
       "3         509           6.1  \n",
       "4         446           6.3  "
      ]
     },
     "execution_count": 5,
     "metadata": {},
     "output_type": "execute_result"
    }
   ],
   "source": [
    "# Inspect the first five rows of the dataset\n",
    "df.head()"
   ]
  },
  {
   "cell_type": "code",
   "execution_count": 6,
   "id": "4fb135be-a67c-4ccb-85c4-fdd644f7efc2",
   "metadata": {},
   "outputs": [
    {
     "data": {
      "text/plain": [
       "(400, 6)"
      ]
     },
     "execution_count": 6,
     "metadata": {},
     "output_type": "execute_result"
    }
   ],
   "source": [
    "# Rows, columns\n",
    "df.shape "
   ]
  },
  {
   "cell_type": "markdown",
   "id": "1b55cbec-d3f4-4f29-9cf5-46492962d6e5",
   "metadata": {},
   "source": [
    "### Run the following cells to load spaCy's English model and define a function for text preprocessing"
   ]
  },
  {
   "cell_type": "code",
   "execution_count": 7,
   "id": "b1f4879e-1dfd-4ca1-a492-282b83b185d6",
   "metadata": {},
   "outputs": [],
   "source": [
    "# Load spaCy model\n",
    "nlp = spacy.load(\"en_core_web_sm\")"
   ]
  },
  {
   "cell_type": "code",
   "execution_count": 8,
   "id": "34e650b2-28d8-48ee-8bc8-bbc2e3674ebb",
   "metadata": {},
   "outputs": [],
   "source": [
    "# Function to clean and preprocess text\n",
    "def preprocess_text(text):\n",
    "    if not isinstance(text, str):\n",
    "        return \"\"\n",
    "    text = text.lower() # Make text lowercase\n",
    "    text = re.sub(r'[^\\w\\s]', '', text)  # Remove punctuation\n",
    "    doc = nlp(text)  # Use spaCy for tokenization and lemmatization\n",
    "    tokens = [token.lemma_ for token in doc if not token.is_stop] #Filter out stop words and lemmatize the rest of the words\n",
    "    return \" \".join(tokens)\n"
   ]
  },
  {
   "cell_type": "markdown",
   "id": "7d22951a-73fc-4da2-945a-07c2b8619e9e",
   "metadata": {},
   "source": [
    "### Run the following cells to preprocess all movie descriptions in the dataset (it might take a minute or two)"
   ]
  },
  {
   "cell_type": "code",
   "execution_count": 9,
   "id": "5db51b36-be8c-4e2f-9694-483818bc3bf3",
   "metadata": {},
   "outputs": [],
   "source": [
    "# Preprocess movie overviews\n",
    "df[\"processed_overview\"] = df[\"overview\"].apply(preprocess_text)"
   ]
  },
  {
   "cell_type": "code",
   "execution_count": 10,
   "id": "9ea19c71-71b6-4042-8ace-793f1255f31c",
   "metadata": {},
   "outputs": [],
   "source": [
    "# Compute sentence embeddings for each movie\n",
    "df[\"embedding\"] = df[\"processed_overview\"].apply(lambda x: model.encode(x, convert_to_tensor=True))"
   ]
  },
  {
   "cell_type": "markdown",
   "id": "c7de50ae-399d-4d07-b342-adb0ec056a27",
   "metadata": {},
   "source": [
    "### Run this cell to define a function that recommends movies based on text similarity and movie popularity"
   ]
  },
  {
   "cell_type": "code",
   "execution_count": 12,
   "id": "54c78b3b-122e-48ab-9ea4-b32738c928a5",
   "metadata": {},
   "outputs": [],
   "source": [
    "# Recommendation function\n",
    "def recommend_movies(user_input, df, top_n=5, weight_text=1.5, weight_popularity=0.2, min_similarity=0.3):\n",
    "    user_input = preprocess_text(user_input)\n",
    "    user_embedding = model.encode(user_input, convert_to_tensor=True)\n",
    "\n",
    "    # Compute cosine similarity\n",
    "    similarities = [util.pytorch_cos_sim(user_embedding, emb)[0].item() for emb in df[\"embedding\"]]\n",
    "    df[\"similarity_score\"] = similarities\n",
    "\n",
    "    # Hybrid Score (weighted sum of similarity + popularity)\n",
    "    df[\"final_score\"] = (df[\"similarity_score\"] * weight_text) + (df[\"vote_average\"] * weight_popularity)\n",
    "\n",
    "    df_filtered = df[df[\"similarity_score\"] >= min_similarity]\n",
    "    \n",
    "    # Sort and return top matches\n",
    "    top_movies = df_filtered.sort_values(by=\"final_score\", ascending=False).head(top_n)\n",
    "    return top_movies[[\"title\", \"overview\", \"similarity_score\", \"vote_average\"]]"
   ]
  },
  {
   "cell_type": "markdown",
   "id": "7d593808-34f4-4382-b409-dfba30c8de62",
   "metadata": {},
   "source": [
    "### Run the following cell and enter the inputs as required in the text boxes. The recommendations will be displayed in the output! :)"
   ]
  },
  {
   "cell_type": "code",
   "execution_count": 13,
   "id": "cd778707-2345-4ddf-9b86-d0de70ca1099",
   "metadata": {},
   "outputs": [
    {
     "name": "stdin",
     "output_type": "stream",
     "text": [
      "Describe the type of movie you like eg. \"I like feel-good, romantic and cosy movies.\" (Press enter when done):  Something with cars, racing, fast paced, speedy, action, thrill\n",
      "\n",
      "\n",
      "How many movies would you like? Enter a number:  5\n"
     ]
    },
    {
     "name": "stdout",
     "output_type": "stream",
     "text": [
      "\n",
      "\n",
      "\n",
      "------------------------------------------------------------Top Recommendations------------------------------------------------------------\n",
      "\n",
      "🎬 Cars\n",
      "📖 Lightning McQueen, a hotshot rookie race car driven to succeed, discovers that life is about the journey, not the finish line, when he finds himself unexpectedly detoured in the sleepy Route 66 town of Radiator Springs. On route across the country to the big Piston Cup Championship in California to compete against two seasoned pros, McQueen gets to know the town's offbeat characters.\n",
      "🔹 Similarity Score: 0.4863\n",
      "⭐ Popularity Score: 6.8000\n",
      "--------------------------------------------------------------------------------------------------------------------------------------------\n",
      "\n",
      "🎬 Hard Boiled\n",
      "📖 A cop who loses his partner in a shoot-out with gun smugglers goes on a mission to catch them. In order to get closer to the leaders of the ring he joins forces with an undercover cop who's working as a gangster hitman. They use all means of excessive force to find them.\n",
      "🔹 Similarity Score: 0.3022\n",
      "⭐ Popularity Score: 7.6000\n",
      "--------------------------------------------------------------------------------------------------------------------------------------------\n",
      "\n",
      "🎬 Bullitt\n",
      "📖 Senator Walter Chalmers is aiming to take down mob boss Pete Ross with the help of testimony from the criminal's hothead brother Johnny, who is in protective custody in San Francisco under the watch of police lieutenant Frank Bullitt. When a pair of mob hitmen enter the scene, Bullitt follows their trail through a maze of complications and double-crosses. This thriller includes one of the most famous car chases ever filmed.\n",
      "🔹 Similarity Score: 0.3331\n",
      "⭐ Popularity Score: 7.2000\n",
      "--------------------------------------------------------------------------------------------------------------------------------------------\n",
      "\n",
      "🎬 Rocky II\n",
      "📖 After Rocky goes the distance with champ Apollo Creed, both try to put the fight behind them and move on. Rocky settles down with Adrian but can't put his life together outside the ring, while Creed seeks a rematch to restore his reputation. Soon enough, the \"Master of Disaster\" and the \"Italian Stallion\" are set on a collision course for a climactic battle that is brutal and unforgettable.\n",
      "🔹 Similarity Score: 0.3188\n",
      "⭐ Popularity Score: 7.1000\n",
      "--------------------------------------------------------------------------------------------------------------------------------------------\n",
      "\n",
      "🎬 Death Race 2\n",
      "📖 In the world's most dangerous prison, a new game is born: Death Race. The rules of this adrenaline-fueled blood sport are simple, drive or die. When repentant convict Carl Lucas discovers there's a price on his head, his only hope is to survive a twisted race against an army of hardened criminals and tricked-out cars.\n",
      "🔹 Similarity Score: 0.4242\n",
      "⭐ Popularity Score: 5.6000\n",
      "--------------------------------------------------------------------------------------------------------------------------------------------\n"
     ]
    }
   ],
   "source": [
    "# User input\n",
    "user_query = input('Describe the type of movie you like eg. \"I like feel-good, romantic and cosy movies.\" (Press enter when done): ')\n",
    "top_n = int(input(\"\\n\\nHow many movies would you like? Enter a number: \"))\n",
    "\n",
    "recommendations = recommend_movies(user_query, df, top_n)\n",
    "\n",
    "# Display results\n",
    "print(\"\\n\\n\\n\"+\"-\" * 60+\"Top Recommendations\"+\"-\" *60)\n",
    "\n",
    "for _, row in recommendations.iterrows():\n",
    "    print(f\"\\n🎬 {row['title']}\")\n",
    "    print(f\"📖 {row['overview']}\")\n",
    "    print(f\"🔹 Similarity Score: {row['similarity_score']:.4f}\")\n",
    "    print(f\"⭐ Popularity Score: {row['vote_average']:.4f}\")\n",
    "    print(\"-\" * 140)"
   ]
  },
  {
   "cell_type": "code",
   "execution_count": null,
   "id": "9dd12f6c-132e-4d55-9058-d9daf1ad3333",
   "metadata": {},
   "outputs": [],
   "source": []
  }
 ],
 "metadata": {
  "kernelspec": {
   "display_name": "spacy  (myenv)",
   "language": "python",
   "name": "spacy_env"
  },
  "language_info": {
   "codemirror_mode": {
    "name": "ipython",
    "version": 3
   },
   "file_extension": ".py",
   "mimetype": "text/x-python",
   "name": "python",
   "nbconvert_exporter": "python",
   "pygments_lexer": "ipython3",
   "version": "3.10.16"
  }
 },
 "nbformat": 4,
 "nbformat_minor": 5
}
